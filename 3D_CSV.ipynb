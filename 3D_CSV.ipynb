{
 "cells": [
  {
   "attachments": {},
   "cell_type": "markdown",
   "metadata": {},
   "source": [
    "Export all FEFLOW Kx values as Center in an ASCII table and read the table into a dataframe with pandas"
   ]
  },
  {
   "cell_type": "code",
   "execution_count": 102,
   "metadata": {},
   "outputs": [
    {
     "data": {
      "text/html": [
       "<div>\n",
       "<style scoped>\n",
       "    .dataframe tbody tr th:only-of-type {\n",
       "        vertical-align: middle;\n",
       "    }\n",
       "\n",
       "    .dataframe tbody tr th {\n",
       "        vertical-align: top;\n",
       "    }\n",
       "\n",
       "    .dataframe thead th {\n",
       "        text-align: right;\n",
       "    }\n",
       "</style>\n",
       "<table border=\"1\" class=\"dataframe\">\n",
       "  <thead>\n",
       "    <tr style=\"text-align: right;\">\n",
       "      <th></th>\n",
       "      <th>Id</th>\n",
       "      <th>X</th>\n",
       "      <th>Y</th>\n",
       "      <th>Z</th>\n",
       "      <th>M</th>\n",
       "      <th>Element</th>\n",
       "      <th>CENTER_X</th>\n",
       "      <th>CENTER_Y</th>\n",
       "      <th>CENTER_Z</th>\n",
       "      <th>LAYER</th>\n",
       "      <th>CONDX</th>\n",
       "      <th>CONDX_U</th>\n",
       "    </tr>\n",
       "  </thead>\n",
       "  <tbody>\n",
       "    <tr>\n",
       "      <th>0</th>\n",
       "      <td>1</td>\n",
       "      <td>619465.140152</td>\n",
       "      <td>5.854999e+06</td>\n",
       "      <td>714.518971</td>\n",
       "      <td>0.0</td>\n",
       "      <td>1</td>\n",
       "      <td>619465.140152</td>\n",
       "      <td>5.854999e+06</td>\n",
       "      <td>714.518971</td>\n",
       "      <td>1</td>\n",
       "      <td>0.000012</td>\n",
       "      <td>m/s</td>\n",
       "    </tr>\n",
       "    <tr>\n",
       "      <th>1</th>\n",
       "      <td>2</td>\n",
       "      <td>619476.500000</td>\n",
       "      <td>5.854990e+06</td>\n",
       "      <td>714.289886</td>\n",
       "      <td>0.0</td>\n",
       "      <td>2</td>\n",
       "      <td>619476.500000</td>\n",
       "      <td>5.854990e+06</td>\n",
       "      <td>714.289886</td>\n",
       "      <td>1</td>\n",
       "      <td>0.000012</td>\n",
       "      <td>m/s</td>\n",
       "    </tr>\n",
       "    <tr>\n",
       "      <th>2</th>\n",
       "      <td>3</td>\n",
       "      <td>619470.140152</td>\n",
       "      <td>5.855018e+06</td>\n",
       "      <td>714.366445</td>\n",
       "      <td>0.0</td>\n",
       "      <td>3</td>\n",
       "      <td>619470.140152</td>\n",
       "      <td>5.855018e+06</td>\n",
       "      <td>714.366445</td>\n",
       "      <td>1</td>\n",
       "      <td>0.000012</td>\n",
       "      <td>m/s</td>\n",
       "    </tr>\n",
       "    <tr>\n",
       "      <th>3</th>\n",
       "      <td>4</td>\n",
       "      <td>619461.973485</td>\n",
       "      <td>5.855031e+06</td>\n",
       "      <td>714.118436</td>\n",
       "      <td>0.0</td>\n",
       "      <td>4</td>\n",
       "      <td>619461.973485</td>\n",
       "      <td>5.855031e+06</td>\n",
       "      <td>714.118436</td>\n",
       "      <td>1</td>\n",
       "      <td>0.000012</td>\n",
       "      <td>m/s</td>\n",
       "    </tr>\n",
       "    <tr>\n",
       "      <th>4</th>\n",
       "      <td>5</td>\n",
       "      <td>611400.399115</td>\n",
       "      <td>5.856187e+06</td>\n",
       "      <td>637.554506</td>\n",
       "      <td>0.0</td>\n",
       "      <td>5</td>\n",
       "      <td>611400.399115</td>\n",
       "      <td>5.856187e+06</td>\n",
       "      <td>637.554506</td>\n",
       "      <td>1</td>\n",
       "      <td>0.000012</td>\n",
       "      <td>m/s</td>\n",
       "    </tr>\n",
       "  </tbody>\n",
       "</table>\n",
       "</div>"
      ],
      "text/plain": [
       "   Id              X             Y           Z    M  Element       CENTER_X  \\\n",
       "0   1  619465.140152  5.854999e+06  714.518971  0.0        1  619465.140152   \n",
       "1   2  619476.500000  5.854990e+06  714.289886  0.0        2  619476.500000   \n",
       "2   3  619470.140152  5.855018e+06  714.366445  0.0        3  619470.140152   \n",
       "3   4  619461.973485  5.855031e+06  714.118436  0.0        4  619461.973485   \n",
       "4   5  611400.399115  5.856187e+06  637.554506  0.0        5  611400.399115   \n",
       "\n",
       "       CENTER_Y    CENTER_Z  LAYER     CONDX CONDX_U  \n",
       "0  5.854999e+06  714.518971      1  0.000012     m/s  \n",
       "1  5.854990e+06  714.289886      1  0.000012     m/s  \n",
       "2  5.855018e+06  714.366445      1  0.000012     m/s  \n",
       "3  5.855031e+06  714.118436      1  0.000012     m/s  \n",
       "4  5.856187e+06  637.554506      1  0.000012     m/s  "
      ]
     },
     "execution_count": 102,
     "metadata": {},
     "output_type": "execute_result"
    }
   ],
   "source": [
    "import pandas as pd\n",
    "import numpy as np\n",
    "\n",
    "#Import dask for parallelization of merge\n",
    "import dask\n",
    "import dask.dataframe as dd\n",
    "\n",
    "feflow = pd.read_fwf('Carrot_Kx.dat', colspecs = 'infer', infer_nrows = 12)\n",
    "feflow.head(5)"
   ]
  },
  {
   "attachments": {},
   "cell_type": "markdown",
   "metadata": {},
   "source": [
    "Append new indexing column equal to the sum of X,Y,Z truncated to 0 decimal places"
   ]
  },
  {
   "cell_type": "code",
   "execution_count": null,
   "metadata": {},
   "outputs": [],
   "source": [
    "import math as math\n",
    "\n",
    "#Truncate values in feflow dataframe\n",
    "feflow_trunc = feflow[['X','Y','Z']].copy()\n",
    "feflow_trunc['X'] = feflow_trunc['X'].astype(int)\n",
    "feflow_trunc['Y'] = feflow_trunc['Y'].astype(int)\n",
    "feflow_trunc['Z'] = feflow_trunc['Z'].astype(int)\n",
    "print(feflow_trunc.head(5))\n",
    "\n",
    "#FEFLOW SUM INDEX\n",
    "fe_col_list = list(feflow_trunc)\n",
    "feflow_sum = feflow_trunc[fe_col_list].sum(axis=1)\n",
    "feflow[\"Sum\"]=feflow_sum\n",
    "feflow.head(5)"
   ]
  },
  {
   "attachments": {},
   "cell_type": "markdown",
   "metadata": {},
   "source": [
    "Import RQD Block Model as CSV"
   ]
  },
  {
   "cell_type": "code",
   "execution_count": 105,
   "metadata": {},
   "outputs": [
    {
     "data": {
      "text/html": [
       "<div>\n",
       "<style scoped>\n",
       "    .dataframe tbody tr th:only-of-type {\n",
       "        vertical-align: middle;\n",
       "    }\n",
       "\n",
       "    .dataframe tbody tr th {\n",
       "        vertical-align: top;\n",
       "    }\n",
       "\n",
       "    .dataframe thead th {\n",
       "        text-align: right;\n",
       "    }\n",
       "</style>\n",
       "<table border=\"1\" class=\"dataframe\">\n",
       "  <thead>\n",
       "    <tr style=\"text-align: right;\">\n",
       "      <th></th>\n",
       "      <th>Id</th>\n",
       "      <th>X</th>\n",
       "      <th>Y</th>\n",
       "      <th>Z</th>\n",
       "      <th>dX</th>\n",
       "      <th>dY</th>\n",
       "      <th>dZ</th>\n",
       "      <th>RQD%</th>\n",
       "    </tr>\n",
       "  </thead>\n",
       "  <tbody>\n",
       "    <tr>\n",
       "      <th>0</th>\n",
       "      <td>291275</td>\n",
       "      <td>612065</td>\n",
       "      <td>5853415</td>\n",
       "      <td>-59</td>\n",
       "      <td>10</td>\n",
       "      <td>10</td>\n",
       "      <td>14</td>\n",
       "      <td>98.718974</td>\n",
       "    </tr>\n",
       "    <tr>\n",
       "      <th>1</th>\n",
       "      <td>291276</td>\n",
       "      <td>612075</td>\n",
       "      <td>5853415</td>\n",
       "      <td>-59</td>\n",
       "      <td>10</td>\n",
       "      <td>10</td>\n",
       "      <td>14</td>\n",
       "      <td>98.719645</td>\n",
       "    </tr>\n",
       "    <tr>\n",
       "      <th>2</th>\n",
       "      <td>291277</td>\n",
       "      <td>612085</td>\n",
       "      <td>5853415</td>\n",
       "      <td>-59</td>\n",
       "      <td>10</td>\n",
       "      <td>10</td>\n",
       "      <td>14</td>\n",
       "      <td>98.720326</td>\n",
       "    </tr>\n",
       "    <tr>\n",
       "      <th>3</th>\n",
       "      <td>291278</td>\n",
       "      <td>612095</td>\n",
       "      <td>5853415</td>\n",
       "      <td>-59</td>\n",
       "      <td>10</td>\n",
       "      <td>10</td>\n",
       "      <td>14</td>\n",
       "      <td>98.721018</td>\n",
       "    </tr>\n",
       "    <tr>\n",
       "      <th>4</th>\n",
       "      <td>291279</td>\n",
       "      <td>612105</td>\n",
       "      <td>5853415</td>\n",
       "      <td>-59</td>\n",
       "      <td>10</td>\n",
       "      <td>10</td>\n",
       "      <td>14</td>\n",
       "      <td>98.721720</td>\n",
       "    </tr>\n",
       "  </tbody>\n",
       "</table>\n",
       "</div>"
      ],
      "text/plain": [
       "       Id       X        Y   Z  dX  dY  dZ       RQD%\n",
       "0  291275  612065  5853415 -59  10  10  14  98.718974\n",
       "1  291276  612075  5853415 -59  10  10  14  98.719645\n",
       "2  291277  612085  5853415 -59  10  10  14  98.720326\n",
       "3  291278  612095  5853415 -59  10  10  14  98.721018\n",
       "4  291279  612105  5853415 -59  10  10  14  98.721720"
      ]
     },
     "execution_count": 105,
     "metadata": {},
     "output_type": "execute_result"
    }
   ],
   "source": [
    "mfq = dd.read_csv('MFQ_RQD.csv')\n",
    "mfq.head(5)"
   ]
  },
  {
   "attachments": {},
   "cell_type": "markdown",
   "metadata": {},
   "source": [
    "Define mathematical transformation to convert RQD values to hydraulic conductvity"
   ]
  },
  {
   "cell_type": "code",
   "execution_count": null,
   "metadata": {},
   "outputs": [],
   "source": [
    "def transform(x):\n",
    "    return x/1000 "
   ]
  },
  {
   "attachments": {},
   "cell_type": "markdown",
   "metadata": {},
   "source": [
    "Create New Dataframe (mfqkx) and apply transformation of RQD values to Kx on MFQ dataframe"
   ]
  },
  {
   "cell_type": "code",
   "execution_count": null,
   "metadata": {},
   "outputs": [],
   "source": [
    "import numpy as np\n",
    "mfq_transform = mfq.apply(lambda x: transform(x) if x.name == 'RQD%' else x)\n",
    "mfqkx = mfq_transform[['X','Y','Z']].copy()\n",
    "\n",
    "#Add sum index to dataframe\n",
    "mfqkx['X'] = mfqkx['X'].astype(int)\n",
    "mfqkx['Y'] = mfqkx['Y'].astype(int)\n",
    "mfqkx['Z'] = mfqkx['Z'].astype(int)\n",
    "#MFQKX SUM INDEX\n",
    "mfqkx_col_list = list(mfqkx)\n",
    "mfqkx_sum = mfqkx[fe_col_list].sum(axis=1)\n",
    "mfqkx[\"Sum\"] = mfqkx_sum\n",
    "mfqkx['RQD'] = pd.Series(mfq_transform['RQD%'])\n",
    "print(mfqkx.head(5))\n"
   ]
  },
  {
   "attachments": {},
   "cell_type": "markdown",
   "metadata": {},
   "source": []
  },
  {
   "cell_type": "code",
   "execution_count": null,
   "metadata": {},
   "outputs": [],
   "source": [
    "inner_merge = dd.merge(mfqkx, feflow, on=['Sum'])\n",
    "print(inner_merge.head(5))"
   ]
  },
  {
   "attachments": {},
   "cell_type": "markdown",
   "metadata": {},
   "source": [
    "Export final dataframe to .xlsx (Excel) file that can be read for parameter linkage in FEFLOW"
   ]
  },
  {
   "cell_type": "code",
   "execution_count": null,
   "metadata": {},
   "outputs": [],
   "source": [
    "#table_import.to_excel('test.xlsx')"
   ]
  }
 ],
 "metadata": {
  "kernelspec": {
   "display_name": "geomodel",
   "language": "python",
   "name": "python3"
  },
  "language_info": {
   "codemirror_mode": {
    "name": "ipython",
    "version": 3
   },
   "file_extension": ".py",
   "mimetype": "text/x-python",
   "name": "python",
   "nbconvert_exporter": "python",
   "pygments_lexer": "ipython3",
   "version": "3.9.16"
  },
  "orig_nbformat": 4
 },
 "nbformat": 4,
 "nbformat_minor": 2
}
