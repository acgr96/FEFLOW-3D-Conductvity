{
 "cells": [
  {
   "attachments": {},
   "cell_type": "markdown",
   "metadata": {},
   "source": [
    "Export all FEFLOW Kx values as Center in an ASCII table and read the table into a dataframe with pandas"
   ]
  },
  {
   "cell_type": "code",
   "execution_count": null,
   "metadata": {},
   "outputs": [],
   "source": [
    "import pandas as pd\n",
    "import numpy as np\n",
    "\n",
    "#Import dask for parallelization of merge\n",
    "import dask\n",
    "import dask.dataframe as dd\n",
    "\n",
    "feflow = pd.read_fwf('Carrot_Kx.dat', colspecs = 'infer', infer_nrows = 12)\n",
    "feflow.head(5)"
   ]
  },
  {
   "attachments": {},
   "cell_type": "markdown",
   "metadata": {},
   "source": [
    "Append new indexing column equal to the sum of X,Y,Z truncated to 0 decimal places"
   ]
  },
  {
   "cell_type": "code",
   "execution_count": null,
   "metadata": {},
   "outputs": [],
   "source": [
    "import math as math\n",
    "\n",
    "#Truncate values in feflow dataframe\n",
    "#Change feflow XYZ type to int\n",
    "type_dict = {'X': int, 'Y': int, 'Z': int}\n",
    "feflow = feflow.astype(type_dict)\n",
    "feflow.head(5)"
   ]
  },
  {
   "attachments": {},
   "cell_type": "markdown",
   "metadata": {},
   "source": [
    "Import RQD Block Model as CSV"
   ]
  },
  {
   "cell_type": "code",
   "execution_count": null,
   "metadata": {},
   "outputs": [],
   "source": [
    "mfq = pd.read_csv('MFQ_RQD.csv')\n",
    "mfq.head(5)"
   ]
  },
  {
   "attachments": {},
   "cell_type": "markdown",
   "metadata": {},
   "source": [
    "Define mathematical transformation to convert RQD values to hydraulic conductvity"
   ]
  },
  {
   "cell_type": "code",
   "execution_count": null,
   "metadata": {},
   "outputs": [],
   "source": [
    "def transform(x):\n",
    "    return x/1000 "
   ]
  },
  {
   "attachments": {},
   "cell_type": "markdown",
   "metadata": {},
   "source": [
    "Create New Dataframe (mfqkx) and apply transformation of RQD values to Kx on MFQ dataframe"
   ]
  },
  {
   "cell_type": "code",
   "execution_count": null,
   "metadata": {},
   "outputs": [],
   "source": [
    "import numpy as np\n",
    "mfq_transform = mfq.apply(lambda x: transform(x) if x.name == 'RQD%' else x)\n",
    "mfqkx = mfq_transform[['X','Y','Z']].copy()\n",
    "mfqkx['X'] = mfqkx['X'].astype(int)\n",
    "mfqkx['Y'] = mfqkx['Y'].astype(int)\n",
    "mfqkx['Z'] = mfqkx['Z'].astype(int)\n",
    "mfqkx['RQD'] = pd.Series(mfq_transform['RQD%'])\n",
    "print(mfqkx.head(5))\n"
   ]
  },
  {
   "attachments": {},
   "cell_type": "markdown",
   "metadata": {},
   "source": [
    "Use dask to merge datasets based on common XYZ location"
   ]
  },
  {
   "cell_type": "code",
   "execution_count": null,
   "metadata": {},
   "outputs": [],
   "source": [
    "#Convert dataframes from pandas to dask\n",
    "# - NOTE: Dask should not be used prior to this point as it handles local processes (i.e. applying custom function) very slowly\n",
    "d_feflow = dd.from_pandas(feflow, npartitions=1)\n",
    "d_mfqkx = dd.from_pandas(mfqkx, npartitions=1)\n",
    "\n",
    "merge = dd.merge(d_feflow, d_mfqkx,how='left',on=['X','Y','Z'])\n",
    "print(merge.head(5))"
   ]
  },
  {
   "attachments": {},
   "cell_type": "markdown",
   "metadata": {},
   "source": [
    "Export final dataframe to .xlsx (Excel) file that can be read for parameter linkage in FEFLOW"
   ]
  },
  {
   "cell_type": "code",
   "execution_count": null,
   "metadata": {},
   "outputs": [],
   "source": [
    "#Remove rows where RQD is NaN\n",
    "df = merge.dropna()\n",
    "print(df.head())\n",
    "df.to_csv('merge.csv')"
   ]
  }
 ],
 "metadata": {
  "kernelspec": {
   "display_name": "geomodel",
   "language": "python",
   "name": "python3"
  },
  "language_info": {
   "codemirror_mode": {
    "name": "ipython",
    "version": 3
   },
   "file_extension": ".py",
   "mimetype": "text/x-python",
   "name": "python",
   "nbconvert_exporter": "python",
   "pygments_lexer": "ipython3",
   "version": "3.9.16"
  },
  "orig_nbformat": 4
 },
 "nbformat": 4,
 "nbformat_minor": 2
}
